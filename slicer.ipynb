{
 "cells": [
  {
   "cell_type": "code",
   "execution_count": null,
   "id": "e523268d-adb5-43d5-9b46-847483c704d9",
   "metadata": {},
   "outputs": [],
   "source": [
    "import json\n",
    "import numpy as np\n",
    "from IPython.display import Audio\n",
    "from matplotlib import pyplot as plt\n",
    "from patch import LiveSet,SlicerPatch"
   ]
  },
  {
   "cell_type": "markdown",
   "id": "81c6aa73-5947-4987-995d-ec94ad103398",
   "metadata": {},
   "source": [
    "Read in the default patch file, which just has the basic slicer effect."
   ]
  },
  {
   "cell_type": "code",
   "execution_count": null,
   "id": "31a231ed-9047-4aa1-8c61-c1aef0d5d36f",
   "metadata": {},
   "outputs": [],
   "source": [
    "with open(\"default_patch.tsl\",\"r\") as f:\n",
    "    all_patches = json.load(f)"
   ]
  },
  {
   "cell_type": "markdown",
   "id": "3ca5b76d-768e-43f1-9bf3-1260b09fe2b8",
   "metadata": {},
   "source": [
    "Create a synthetic A440Hz sine wave."
   ]
  },
  {
   "cell_type": "code",
   "execution_count": null,
   "id": "eb7ad849-b062-4dd3-9b56-a3ad7233330c",
   "metadata": {},
   "outputs": [],
   "source": [
    "sin_freq = 440\n",
    "rate = 44100\n",
    "sin_b = (2*np.pi*sin_freq)/rate\n",
    "n_seconds = 15\n",
    "len_t = rate * n_seconds\n",
    "tmp_x = np.arange(len_t)\n",
    "a440_sinwave = 0.05*np.sin(sin_b*tmp_x)-0.025"
   ]
  },
  {
   "cell_type": "markdown",
   "id": "8ae7ca43-5eea-469e-8e72-0133a312bb79",
   "metadata": {},
   "source": [
    "Play the sine wave."
   ]
  },
  {
   "cell_type": "code",
   "execution_count": null,
   "id": "b3231cdb-3eeb-4530-af20-d164a3668453",
   "metadata": {},
   "outputs": [],
   "source": [
    "Audio(a440_sinwave,rate=rate)"
   ]
  },
  {
   "cell_type": "markdown",
   "id": "229efdab-61e8-43fc-8b0c-e26a2d226013",
   "metadata": {},
   "source": [
    "This function simulates the slicer effect by applying the paramters in the`STEP_LENGTH` and `STEP_LEVEL` arrays to a sound file."
   ]
  },
  {
   "cell_type": "code",
   "execution_count": null,
   "id": "faae43b9-6b9d-46f5-8c69-07b0e71b412c",
   "metadata": {},
   "outputs": [],
   "source": [
    "def simulate_slicer(pattern,sound=a440_sinwave,bpm=100,metronome=False):\n",
    "    n_slices = pattern.step_number_c1\n",
    "    # Step Length\n",
    "    step_len = pattern.step_length_c1[:n_slices]/100\n",
    "    # Step Level\n",
    "    step_level = pattern.step_level_c1[:n_slices]/100\n",
    "    # Seconds per beat = 1/bps = 1/(bpm/60) = 60/bpm\n",
    "    spb = 60/bpm\n",
    "    # Seconds per measure\n",
    "    spm = 4*spb\n",
    "    # samples per measure = seconds/measure * samples/second = samples/measure\n",
    "    smpls_per_measure = spm * rate\n",
    "    n_measures = int(np.ceil(a440_sinwave.shape[0] / smpls_per_measure))\n",
    "    # Divide measure into n_slices parts\n",
    "    smpls_per_slice = int(smpls_per_measure / n_slices)\n",
    "    # Threshold values are the indices within each slice where we need to cut off the sound\n",
    "    thresh = np.repeat(np.floor(step_len * smpls_per_slice),smpls_per_slice)\n",
    "    # index values are the current index values within each slice (0 to smpls_per_slice)\n",
    "    # Any time idx exceeds thresh, we cut off the sound.\n",
    "    idx = np.tile(np.arange(smpls_per_slice),n_slices)\n",
    "    # Mask array will be used to mask off the sound where required\n",
    "    mask = (idx <= thresh).astype(np.float32)\n",
    "    # Repeat the patterns for the duration of the array\n",
    "    step_len_repeat = np.tile(mask,n_measures)[:a440_sinwave.shape[0]]\n",
    "    step_level_repeat = np.tile(np.repeat(step_level,smpls_per_slice),n_measures)[:a440_sinwave.shape[0]]\n",
    "    # Output sound\n",
    "    simulated_sound = sound * step_level_repeat * step_len_repeat\n",
    "    return sound * step_level_repeat * step_len_repeat"
   ]
  },
  {
   "cell_type": "markdown",
   "id": "0cab6ff5-2f23-4d83-b77d-ce981cbb5e1c",
   "metadata": {},
   "source": [
    "Read in the default pattern file, and parse it using the `LiveSet` object."
   ]
  },
  {
   "cell_type": "code",
   "execution_count": null,
   "id": "b451dc15-8432-4ac9-8b99-d5c8abe243b7",
   "metadata": {},
   "outputs": [],
   "source": [
    "with open(\"default_patch.tsl\",\"r\") as f:\n",
    "    json_live_set = json.load(f)\n",
    "live_set = LiveSet.from_json(json_live_set)\n",
    "live_set"
   ]
  },
  {
   "cell_type": "code",
   "execution_count": null,
   "id": "144c9c3a-4770-42ad-9723-79c289928e77",
   "metadata": {},
   "outputs": [],
   "source": [
    "patch = live_set.data[0][0]\n",
    "patch"
   ]
  },
  {
   "cell_type": "markdown",
   "id": "7fb2a9ed-106b-4571-9127-8535253a5327",
   "metadata": {},
   "source": [
    "Generate a (very bad) simulation of the pattern."
   ]
  },
  {
   "cell_type": "code",
   "execution_count": null,
   "id": "ca6da795-e225-4073-97ca-450480168d5d",
   "metadata": {},
   "outputs": [],
   "source": [
    "sim_sound = simulate_slicer(pattern=patch,bpm=50)"
   ]
  },
  {
   "cell_type": "markdown",
   "id": "80dbbf53-2222-46f3-b8da-3442dc6d866d",
   "metadata": {},
   "source": [
    "Play the sound."
   ]
  },
  {
   "cell_type": "code",
   "execution_count": null,
   "id": "15d70b5e-fff8-4374-873c-af56c5c7cb45",
   "metadata": {},
   "outputs": [],
   "source": [
    "Audio(sim_sound,rate=rate)"
   ]
  },
  {
   "cell_type": "code",
   "execution_count": null,
   "id": "6ea3821b-a4c4-4889-89f5-0a2bc19801f3",
   "metadata": {},
   "outputs": [],
   "source": []
  }
 ],
 "metadata": {
  "kernelspec": {
   "display_name": "Python 3 (ipykernel)",
   "language": "python",
   "name": "python3"
  },
  "language_info": {
   "codemirror_mode": {
    "name": "ipython",
    "version": 3
   },
   "file_extension": ".py",
   "mimetype": "text/x-python",
   "name": "python",
   "nbconvert_exporter": "python",
   "pygments_lexer": "ipython3",
   "version": "3.9.7"
  }
 },
 "nbformat": 4,
 "nbformat_minor": 5
}
